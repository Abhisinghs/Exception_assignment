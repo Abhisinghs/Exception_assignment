{
 "cells": [
  {
   "cell_type": "code",
   "execution_count": null,
   "id": "9fb4ccf5-8546-4c8c-89c7-964865b58a7b",
   "metadata": {},
   "outputs": [],
   "source": [
    "#Answer_1\n",
    "\n",
    "An exception is an event, which occurs during the execution of a program \n",
    "that disrupts the normal flow of the program's instructions.\n",
    "\n",
    "Errors are the problems in a program due to which the program will stop the execution and \n",
    "exceptions are raised when some internal events occur which changes the normal flow of the program. "
   ]
  },
  {
   "cell_type": "code",
   "execution_count": 1,
   "id": "e335eca4-a6ad-47ce-bcbb-80801302b0d2",
   "metadata": {},
   "outputs": [
    {
     "ename": "NameError",
     "evalue": "name 'prin' is not defined",
     "output_type": "error",
     "traceback": [
      "\u001b[0;31m---------------------------------------------------------------------------\u001b[0m",
      "\u001b[0;31mNameError\u001b[0m                                 Traceback (most recent call last)",
      "Cell \u001b[0;32mIn[1], line 1\u001b[0m\n\u001b[0;32m----> 1\u001b[0m \u001b[43mprin\u001b[49m(\u001b[38;5;124m\"\u001b[39m\u001b[38;5;124mhello engineer\u001b[39m\u001b[38;5;124m\"\u001b[39m)    \u001b[38;5;66;03m#this is error\u001b[39;00m\n",
      "\u001b[0;31mNameError\u001b[0m: name 'prin' is not defined"
     ]
    }
   ],
   "source": [
    "prin(\"Hello engineer\")    #this is syntax error"
   ]
  },
  {
   "cell_type": "code",
   "execution_count": 2,
   "id": "ca5a1fac-3b90-4c54-bfad-c079ed95bb44",
   "metadata": {},
   "outputs": [
    {
     "ename": "ZeroDivisionError",
     "evalue": "division by zero",
     "output_type": "error",
     "traceback": [
      "\u001b[0;31m---------------------------------------------------------------------------\u001b[0m",
      "\u001b[0;31mZeroDivisionError\u001b[0m                         Traceback (most recent call last)",
      "Cell \u001b[0;32mIn[2], line 2\u001b[0m\n\u001b[1;32m      1\u001b[0m a\u001b[38;5;241m=\u001b[39m\u001b[38;5;241m10\u001b[39m\n\u001b[0;32m----> 2\u001b[0m \u001b[43ma\u001b[49m\u001b[38;5;241;43m/\u001b[39;49m\u001b[38;5;241;43m0\u001b[39;49m          \u001b[38;5;66;03m#this is an Exception due to number can not divisble by zero\u001b[39;00m\n",
      "\u001b[0;31mZeroDivisionError\u001b[0m: division by zero"
     ]
    }
   ],
   "source": [
    "a=10\n",
    "a/0          #this is an Exception due to number can not divisble by zero"
   ]
  },
  {
   "cell_type": "code",
   "execution_count": 7,
   "id": "21efb544-c57e-4981-9936-f7901d2c6943",
   "metadata": {},
   "outputs": [
    {
     "name": "stdin",
     "output_type": "stream",
     "text": [
      "enter marks 44\n"
     ]
    },
    {
     "ename": "ZeroDivisionError",
     "evalue": "division by zero",
     "output_type": "error",
     "traceback": [
      "\u001b[0;31m---------------------------------------------------------------------------\u001b[0m",
      "\u001b[0;31mZeroDivisionError\u001b[0m                         Traceback (most recent call last)",
      "Cell \u001b[0;32mIn[7], line 6\u001b[0m\n\u001b[1;32m      1\u001b[0m \u001b[38;5;66;03m#Answer_2\u001b[39;00m\n\u001b[1;32m      2\u001b[0m \n\u001b[1;32m      3\u001b[0m \u001b[38;5;66;03m# when exception is not handle further program can not execute continously in which line exception occur then next \u001b[39;00m\n\u001b[1;32m      4\u001b[0m \u001b[38;5;66;03m# line can not execute due to exception.\u001b[39;00m\n\u001b[1;32m      5\u001b[0m marks\u001b[38;5;241m=\u001b[39m\u001b[38;5;28mint\u001b[39m(\u001b[38;5;28minput\u001b[39m(\u001b[38;5;124m\"\u001b[39m\u001b[38;5;124menter marks\u001b[39m\u001b[38;5;124m\"\u001b[39m))\n\u001b[0;32m----> 6\u001b[0m result\u001b[38;5;241m=\u001b[39m\u001b[43mmarks\u001b[49m\u001b[38;5;241;43m/\u001b[39;49m\u001b[38;5;241;43m0\u001b[39;49m\n\u001b[1;32m      7\u001b[0m \u001b[38;5;28mprint\u001b[39m(result)\n",
      "\u001b[0;31mZeroDivisionError\u001b[0m: division by zero"
     ]
    }
   ],
   "source": [
    "#Answer_2\n",
    "\n",
    "# when exception is not handle further program can not execute continously in which line exception occur then next \n",
    "# line can not execute due to exception.\n",
    "marks=int(input(\"enter marks\"))\n",
    "result=marks/0                  #in this line exception occur so after this line can not execute\n",
    "print(result)\n",
    "\n",
    "#example of exception"
   ]
  },
  {
   "cell_type": "code",
   "execution_count": null,
   "id": "0c96b348-d5aa-46bb-a154-1bb9e159bbd5",
   "metadata": {},
   "outputs": [],
   "source": [
    "#Answer_3\n",
    "\n",
    "Try and except statements are used to catch and handle exceptions in Python. Statements\n",
    "that can raise exceptions are kept inside the try block and the statements that handle the\n",
    "exception are written inside except block."
   ]
  },
  {
   "cell_type": "code",
   "execution_count": 8,
   "id": "a397e8b1-bb7e-4274-aa34-212ed3f425f2",
   "metadata": {},
   "outputs": [
    {
     "name": "stdout",
     "output_type": "stream",
     "text": [
      "3\n",
      "exception occur\n"
     ]
    }
   ],
   "source": [
    "a=[2,3,4]\n",
    "\n",
    "try:\n",
    "    print(a[1])\n",
    "    #throws an exception in try block\n",
    "    print(a[3])\n",
    "except:\n",
    "    print(\"exception occur\")"
   ]
  },
  {
   "cell_type": "code",
   "execution_count": null,
   "id": "42a4f666-28be-46b0-bb11-3ce98d7a7178",
   "metadata": {},
   "outputs": [],
   "source": [
    "# Answer_4\n",
    "\n",
    "Exception can be define as any abnormal,unexpected and extra ordainary condition that may occur at runtime.\n",
    "Try: This block will test the excepted error to occur\n",
    "Except:  Here you can handle the error\n",
    "Else: If there is no exception then this block will be executed\n",
    "Finally: Finally block always gets executed either exception is generated or not"
   ]
  },
  {
   "cell_type": "code",
   "execution_count": 10,
   "id": "d35b4f24-ed20-466b-9132-19ef4f8754d9",
   "metadata": {},
   "outputs": [
    {
     "name": "stdout",
     "output_type": "stream",
     "text": [
      "Yeah ! Your answer is : 1\n",
      "this will execute anyway\n",
      "Sorry ! You are dividing by zero \n",
      "this will execute anyway\n"
     ]
    }
   ],
   "source": [
    "\n",
    "def divide(x, y):\n",
    "    try:\n",
    "        result = x // y\n",
    "    except ZeroDivisionError:\n",
    "        print(\"Sorry ! You are dividing by zero \")\n",
    "    else:\n",
    "        print(\"Yeah ! Your answer is :\", result)\n",
    "    finally:\n",
    "        print(\"this will execute anyway\")\n",
    "   \n",
    "divide(3, 2)\n",
    "divide(3, 0)"
   ]
  },
  {
   "cell_type": "code",
   "execution_count": 11,
   "id": "f06076cf-5936-4aa3-a798-abc66d73f12a",
   "metadata": {},
   "outputs": [
    {
     "ename": "SyntaxError",
     "evalue": "invalid syntax (3599261879.py, line 4)",
     "output_type": "error",
     "traceback": [
      "\u001b[0;36m  Cell \u001b[0;32mIn[11], line 4\u001b[0;36m\u001b[0m\n\u001b[0;31m    custom exception are those exception which create by user not system.\u001b[0m\n\u001b[0m           ^\u001b[0m\n\u001b[0;31mSyntaxError\u001b[0m\u001b[0;31m:\u001b[0m invalid syntax\n"
     ]
    }
   ],
   "source": [
    "#Answer_5\n",
    "\n",
    "#what is custom exception\n",
    "custom exception are those exception which create by user not system.\n",
    "we will create a class that inherit to the exception class for implement the custom exception.\n",
    "\n",
    "#need of custom exception \n",
    "when business logic implementation exception may or may not really \n",
    "exception so we use custom exception in python.\n"
   ]
  },
  {
   "cell_type": "code",
   "execution_count": 13,
   "id": "7f36199c-5f38-4e39-a7bc-6531d2a4f98a",
   "metadata": {},
   "outputs": [],
   "source": [
    "class check(Exception):\n",
    "    def __init__(self,msg):\n",
    "        self.msg=msg"
   ]
  },
  {
   "cell_type": "code",
   "execution_count": 21,
   "id": "f6d438bd-4856-41e9-ae00-63c4e187c261",
   "metadata": {},
   "outputs": [],
   "source": [
    "def account(widthrawal_amount):\n",
    "    balance=500000\n",
    "    if widthrawal_amount>balance:\n",
    "        raise check(\"insufficient balance\")"
   ]
  },
  {
   "cell_type": "code",
   "execution_count": 22,
   "id": "f248e3c1-c616-4bfb-aac7-930faa1b8542",
   "metadata": {},
   "outputs": [
    {
     "name": "stdin",
     "output_type": "stream",
     "text": [
      "enter amount you will be widthraw 555555555\n"
     ]
    },
    {
     "name": "stdout",
     "output_type": "stream",
     "text": [
      "insufficient balance\n",
      "exit\n"
     ]
    }
   ],
   "source": [
    "try:\n",
    "    balance=500000\n",
    "    widthrawal_amount=int(input(\"enter amount you will be widthraw\"))\n",
    "    account(widthrawal_amount)\n",
    "except check as e:\n",
    "    print(e)\n",
    "else:\n",
    "    balance=balance-widthrawal_amount\n",
    "    print(\"available balance is \",balance)\n",
    "    print(\"transaction successfully\")\n",
    "finally:\n",
    "        print(\"exit\")"
   ]
  },
  {
   "cell_type": "code",
   "execution_count": 24,
   "id": "1b7a1260-6cbc-416e-bec7-34ba96695101",
   "metadata": {},
   "outputs": [],
   "source": [
    "# Answer_6\n",
    "class check_marks(Exception):\n",
    "    def __init__(self,msg):\n",
    "        self.msg=msg\n",
    "        "
   ]
  },
  {
   "cell_type": "code",
   "execution_count": 25,
   "id": "bfb577d1-e9a2-4b67-a6e7-53b3b87a52d7",
   "metadata": {},
   "outputs": [],
   "source": [
    "def result(marks):\n",
    "    if marks<33:\n",
    "        raise check_marks(\"Better luck next time\")"
   ]
  },
  {
   "cell_type": "code",
   "execution_count": 28,
   "id": "b381dd1d-7c5c-43d3-ac80-71cdef6daa9a",
   "metadata": {},
   "outputs": [
    {
     "name": "stdin",
     "output_type": "stream",
     "text": [
      "enter total marks 55\n"
     ]
    },
    {
     "name": "stdout",
     "output_type": "stream",
     "text": [
      "good luck for new adventures\n"
     ]
    }
   ],
   "source": [
    "try:\n",
    "    total_marks=int(input(\"enter total marks\"))\n",
    "    result(total_marks)\n",
    "except check_marks as e:\n",
    "                    print(e)\n",
    "else:\n",
    "    print(\"good luck for new adventures\")"
   ]
  },
  {
   "cell_type": "code",
   "execution_count": null,
   "id": "e283cf2c-f881-4602-b57d-5e64a66ce7ea",
   "metadata": {},
   "outputs": [],
   "source": []
  }
 ],
 "metadata": {
  "kernelspec": {
   "display_name": "Python 3 (ipykernel)",
   "language": "python",
   "name": "python3"
  },
  "language_info": {
   "codemirror_mode": {
    "name": "ipython",
    "version": 3
   },
   "file_extension": ".py",
   "mimetype": "text/x-python",
   "name": "python",
   "nbconvert_exporter": "python",
   "pygments_lexer": "ipython3",
   "version": "3.10.8"
  }
 },
 "nbformat": 4,
 "nbformat_minor": 5
}
